{
 "cells": [
  {
   "cell_type": "code",
   "execution_count": 2,
   "metadata": {},
   "outputs": [],
   "source": [
    "# Import required packages\n",
    "\n",
    "from scipy import stats\n",
    "\n",
    "import os, sys, time\n",
    "import glob\n",
    "from pathlib import Path\n",
    "\n",
    "# Import matplotlib for plotting\n",
    "%matplotlib inline\n",
    "\n",
    "import matplotlib as mpl\n",
    "mpl.use('TkAgg')\n",
    "import matplotlib.pyplot as plt\n",
    "#from mpl_toolkits.basemap import Basemap, cm\n",
    "\n",
    "import cartopy.crs as ccrs\n",
    "import cartopy.feature as cfeature\n",
    "import cartopy\n",
    "\n",
    "from datetime import datetime\n",
    "\n",
    "import rioxarray as rio\n",
    "\n",
    "import h5py\n",
    "\n",
    "from osgeo import gdal, ogr, gdalnumeric\n",
    "\n",
    "\n",
    "import numpy as np, numpy.ma as ma\n",
    "import statistics as stat\n",
    "import rasterio\n",
    "from rasterio.merge import merge\n",
    "from rasterio.plot import show\n",
    "\n"
   ]
  },
  {
   "cell_type": "code",
   "execution_count": 4,
   "metadata": {},
   "outputs": [
    {
     "name": "stdout",
     "output_type": "stream",
     "text": [
      "/Users/Char/Dropbox/black_marble_VNP46A4\n"
     ]
    }
   ],
   "source": [
    "# Get path for home directory\n",
    "project_path = os.path.dirname(os.path.abspath(\"__file__\"))\n",
    "\n",
    "print(project_path)"
   ]
  },
  {
   "cell_type": "code",
   "execution_count": 5,
   "metadata": {},
   "outputs": [],
   "source": [
    "#Input VNP46A4\n",
    "\n",
    "# enter the dir on your OS containing VIIRS files\n",
    "inDir = project_path \n",
    "\n",
    "# Change to working directory                            \n",
    "os.chdir(inDir)     "
   ]
  },
  {
   "cell_type": "code",
   "execution_count": 6,
   "metadata": {},
   "outputs": [],
   "source": [
    "# Set output directory\n",
    "outDir =  os.path.join(project_path, \"Output_GeoTiffs/\")\n",
    "\n",
    "# If the output directory does not exist, create it\n",
    "os.makedirs(outDir, exist_ok=True)"
   ]
  },
  {
   "cell_type": "code",
   "execution_count": 7,
   "metadata": {},
   "outputs": [
    {
     "name": "stdout",
     "output_type": "stream",
     "text": [
      "['VNP46A4.A2019001.h05v04.001.2021124124303.h5', 'VNP46A4.A2019001.h06v04.001.2021124214828.h5', 'VNP46A4.A2020001.h05v04.001.2021118145635.h5', 'VNP46A4.A2020001.h06v04.001.2021118144811.h5', 'VNP46A4.A2021001.h05v04.001.2022094115045.h5', 'VNP46A4.A2021001.h06v04.001.2022094115106.h5']\n"
     ]
    }
   ],
   "source": [
    "# Get a list of the H5 files\n",
    "hdf5_files = [f for f in os.listdir(inDir) if f.endswith('.h5')]\n",
    "hdf5_files.sort()\n",
    "\n",
    "print(hdf5_files)\n"
   ]
  },
  {
   "cell_type": "code",
   "execution_count": 5,
   "metadata": {},
   "outputs": [
    {
     "data": {
      "text/plain": [
       "['HDFEOS',\n",
       " 'HDFEOS/ADDITIONAL',\n",
       " 'HDFEOS/ADDITIONAL/FILE_ATTRIBUTES',\n",
       " 'HDFEOS/GRIDS',\n",
       " 'HDFEOS/GRIDS/VIIRS_Grid_DNB_2d',\n",
       " 'HDFEOS/GRIDS/VIIRS_Grid_DNB_2d/Data Fields',\n",
       " 'HDFEOS/GRIDS/VIIRS_Grid_DNB_2d/Data Fields/AllAngle_Composite_Snow_Covered',\n",
       " 'HDFEOS/GRIDS/VIIRS_Grid_DNB_2d/Data Fields/AllAngle_Composite_Snow_Covered_Num',\n",
       " 'HDFEOS/GRIDS/VIIRS_Grid_DNB_2d/Data Fields/AllAngle_Composite_Snow_Covered_Quality',\n",
       " 'HDFEOS/GRIDS/VIIRS_Grid_DNB_2d/Data Fields/AllAngle_Composite_Snow_Covered_Std',\n",
       " 'HDFEOS/GRIDS/VIIRS_Grid_DNB_2d/Data Fields/AllAngle_Composite_Snow_Free',\n",
       " 'HDFEOS/GRIDS/VIIRS_Grid_DNB_2d/Data Fields/AllAngle_Composite_Snow_Free_Num',\n",
       " 'HDFEOS/GRIDS/VIIRS_Grid_DNB_2d/Data Fields/AllAngle_Composite_Snow_Free_Quality',\n",
       " 'HDFEOS/GRIDS/VIIRS_Grid_DNB_2d/Data Fields/AllAngle_Composite_Snow_Free_Std',\n",
       " 'HDFEOS/GRIDS/VIIRS_Grid_DNB_2d/Data Fields/DNB_Platform',\n",
       " 'HDFEOS/GRIDS/VIIRS_Grid_DNB_2d/Data Fields/Land_Water_Mask',\n",
       " 'HDFEOS/GRIDS/VIIRS_Grid_DNB_2d/Data Fields/NearNadir_Composite_Snow_Covered',\n",
       " 'HDFEOS/GRIDS/VIIRS_Grid_DNB_2d/Data Fields/NearNadir_Composite_Snow_Covered_Num',\n",
       " 'HDFEOS/GRIDS/VIIRS_Grid_DNB_2d/Data Fields/NearNadir_Composite_Snow_Covered_Quality',\n",
       " 'HDFEOS/GRIDS/VIIRS_Grid_DNB_2d/Data Fields/NearNadir_Composite_Snow_Covered_Std',\n",
       " 'HDFEOS/GRIDS/VIIRS_Grid_DNB_2d/Data Fields/NearNadir_Composite_Snow_Free',\n",
       " 'HDFEOS/GRIDS/VIIRS_Grid_DNB_2d/Data Fields/NearNadir_Composite_Snow_Free_Num',\n",
       " 'HDFEOS/GRIDS/VIIRS_Grid_DNB_2d/Data Fields/NearNadir_Composite_Snow_Free_Quality',\n",
       " 'HDFEOS/GRIDS/VIIRS_Grid_DNB_2d/Data Fields/NearNadir_Composite_Snow_Free_Std',\n",
       " 'HDFEOS/GRIDS/VIIRS_Grid_DNB_2d/Data Fields/OffNadir_Composite_Snow_Covered',\n",
       " 'HDFEOS/GRIDS/VIIRS_Grid_DNB_2d/Data Fields/OffNadir_Composite_Snow_Covered_Num',\n",
       " 'HDFEOS/GRIDS/VIIRS_Grid_DNB_2d/Data Fields/OffNadir_Composite_Snow_Covered_Quality',\n",
       " 'HDFEOS/GRIDS/VIIRS_Grid_DNB_2d/Data Fields/OffNadir_Composite_Snow_Covered_Std',\n",
       " 'HDFEOS/GRIDS/VIIRS_Grid_DNB_2d/Data Fields/OffNadir_Composite_Snow_Free',\n",
       " 'HDFEOS/GRIDS/VIIRS_Grid_DNB_2d/Data Fields/OffNadir_Composite_Snow_Free_Num',\n",
       " 'HDFEOS/GRIDS/VIIRS_Grid_DNB_2d/Data Fields/OffNadir_Composite_Snow_Free_Quality',\n",
       " 'HDFEOS/GRIDS/VIIRS_Grid_DNB_2d/Data Fields/OffNadir_Composite_Snow_Free_Std',\n",
       " 'HDFEOS/GRIDS/VIIRS_Grid_DNB_2d/Data Fields/lat',\n",
       " 'HDFEOS/GRIDS/VIIRS_Grid_DNB_2d/Data Fields/lon',\n",
       " 'HDFEOS INFORMATION',\n",
       " 'HDFEOS INFORMATION/StructMetadata.0']"
      ]
     },
     "execution_count": 5,
     "metadata": {},
     "output_type": "execute_result"
    }
   ],
   "source": [
    "# Explore the structure of a single file from our hdf5_files list\n",
    "inFile = h5py.File(hdf5_files[0], \"r\")   \n",
    "\n",
    "# Create empty list\n",
    "all_h5_objs = []     \n",
    "# Walk through directory tree, retrieve objects and append to list         \n",
    "inFile.visit(all_h5_objs.append)   \n",
    "\n",
    "all_h5_objs"
   ]
  },
  {
   "cell_type": "code",
   "execution_count": 6,
   "metadata": {},
   "outputs": [],
   "source": [
    "# This function ingests the H5 files of interest, and outputs a geotiff\n",
    "# inputHD5 : is the HD5 File of interest\n",
    "# layer : specify which dataset is desired to be exported\n",
    "# OutputFolder: specify the desired output directory\n",
    "\n",
    "def processHD5(inputHD5, layer, OutputFolder):\n",
    "    #Get File Name Prefix\n",
    "    rasterFilePrefix = inputHD5[:-3].replace(\".\",\"_\")\n",
    "    ## Open HDF file\n",
    "    hdflayer = gdal.Open(inputHD5, gdal.GA_ReadOnly)\n",
    "    subhdflayer = hdflayer.GetSubDatasets()[layer][0]\n",
    "    rlayer = gdal.Open(subhdflayer, gdal.GA_ReadOnly)\n",
    "    #Subset the Layer Name\n",
    "    outputLayerName = subhdflayer[97:]\n",
    "    #print(outputLayerName)\n",
    "    \n",
    "    #outputFile\n",
    "    outputRaster =  OutputFolder + rasterFilePrefix + \"_\" + outputLayerName + \".tif\"\n",
    "    print(outputRaster)\n",
    "    \n",
    "    HorizontalTileNumber = int(rlayer.GetMetadata_Dict()[\"HorizontalTileNumber\"])\n",
    "    VerticalTileNumber = int(rlayer.GetMetadata_Dict()[\"VerticalTileNumber\"])\n",
    "    WestBoundCoord = (10*HorizontalTileNumber) - 180\n",
    "    NorthBoundCoord = 90-(10*VerticalTileNumber)\n",
    "    \n",
    "    EastBoundCoord = WestBoundCoord + 10\n",
    "    SouthBoundCoord = NorthBoundCoord - 10\n",
    "    \n",
    "    EPSG = \"-a_srs EPSG:4326\" #WGS84\n",
    "    \n",
    "    translateOptionText = EPSG+\" -a_ullr \" + str(WestBoundCoord) + \" \" + str(NorthBoundCoord) + \" \" + str(EastBoundCoord) + \" \" + str(SouthBoundCoord)\n",
    "    translateoptions = gdal.TranslateOptions(gdal.ParseCommandLine(translateOptionText))\n",
    "    gdal.Translate(outputRaster,rlayer, options=translateoptions)"
   ]
  },
  {
   "cell_type": "code",
   "execution_count": 7,
   "metadata": {},
   "outputs": [
    {
     "name": "stdout",
     "output_type": "stream",
     "text": [
      "/Users/Char/Dropbox/black_marble_VNP46A4/Output_Geotiffs/VNP46A4_A2019001_h05v04_001_2021124124303_NearNadir_Composite_Snow_Free.tif\n"
     ]
    },
    {
     "name": "stderr",
     "output_type": "stream",
     "text": [
      "Warning 1: /Users/Char/Dropbox/black_marble_VNP46A4/Output_Geotiffs/VNP46A4_A2019001_h05v04_001_2021124124303_NearNadir_Composite_Snow_Free.tif: Metadata exceeding 32000 bytes cannot be written into GeoTIFF. Transferred to PAM instead.\n",
      "Warning 1: /Users/Char/Dropbox/black_marble_VNP46A4/Output_Geotiffs/VNP46A4_A2019001_h06v04_001_2021124214828_NearNadir_Composite_Snow_Free.tif: Metadata exceeding 32000 bytes cannot be written into GeoTIFF. Transferred to PAM instead.\n"
     ]
    },
    {
     "name": "stdout",
     "output_type": "stream",
     "text": [
      "/Users/Char/Dropbox/black_marble_VNP46A4/Output_Geotiffs/VNP46A4_A2019001_h06v04_001_2021124214828_NearNadir_Composite_Snow_Free.tif\n",
      "/Users/Char/Dropbox/black_marble_VNP46A4/Output_Geotiffs/VNP46A4_A2020001_h05v04_001_2021118145635_NearNadir_Composite_Snow_Free.tif\n"
     ]
    },
    {
     "name": "stderr",
     "output_type": "stream",
     "text": [
      "Warning 1: /Users/Char/Dropbox/black_marble_VNP46A4/Output_Geotiffs/VNP46A4_A2020001_h05v04_001_2021118145635_NearNadir_Composite_Snow_Free.tif: Metadata exceeding 32000 bytes cannot be written into GeoTIFF. Transferred to PAM instead.\n",
      "Warning 1: /Users/Char/Dropbox/black_marble_VNP46A4/Output_Geotiffs/VNP46A4_A2020001_h06v04_001_2021118144811_NearNadir_Composite_Snow_Free.tif: Metadata exceeding 32000 bytes cannot be written into GeoTIFF. Transferred to PAM instead.\n"
     ]
    },
    {
     "name": "stdout",
     "output_type": "stream",
     "text": [
      "/Users/Char/Dropbox/black_marble_VNP46A4/Output_Geotiffs/VNP46A4_A2020001_h06v04_001_2021118144811_NearNadir_Composite_Snow_Free.tif\n",
      "/Users/Char/Dropbox/black_marble_VNP46A4/Output_Geotiffs/VNP46A4_A2021001_h05v04_001_2022094115045_NearNadir_Composite_Snow_Free.tif\n"
     ]
    },
    {
     "name": "stderr",
     "output_type": "stream",
     "text": [
      "Warning 1: /Users/Char/Dropbox/black_marble_VNP46A4/Output_Geotiffs/VNP46A4_A2021001_h05v04_001_2022094115045_NearNadir_Composite_Snow_Free.tif: Metadata exceeding 32000 bytes cannot be written into GeoTIFF. Transferred to PAM instead.\n",
      "Warning 1: /Users/Char/Dropbox/black_marble_VNP46A4/Output_Geotiffs/VNP46A4_A2021001_h06v04_001_2022094115106_NearNadir_Composite_Snow_Free.tif: Metadata exceeding 32000 bytes cannot be written into GeoTIFF. Transferred to PAM instead.\n"
     ]
    },
    {
     "name": "stdout",
     "output_type": "stream",
     "text": [
      "/Users/Char/Dropbox/black_marble_VNP46A4/Output_Geotiffs/VNP46A4_A2021001_h06v04_001_2022094115106_NearNadir_Composite_Snow_Free.tif\n"
     ]
    }
   ],
   "source": [
    "# Execute the function processHD5\n",
    "# See above to identify which layer number is of interest\n",
    "\n",
    "for file in hdf5_files:\n",
    "    processHD5(file, 14, \"/Users/Char/Dropbox/black_marble_VNP46A4/Output_Geotiffs/\")\n",
    "\n"
   ]
  },
  {
   "cell_type": "code",
   "execution_count": 7,
   "metadata": {},
   "outputs": [
    {
     "name": "stdout",
     "output_type": "stream",
     "text": [
      "/Users/Char/Dropbox/black_marble_VNP46A4/Output_Geotiffs/VNP46A4_A2019001_h05v04_001_2021124124303_AllAngle_Composite_Snow_Covered.tif\n",
      "/Users/Char/Dropbox/black_marble_VNP46A4/Output_Geotiffs/VNP46A4_A2019001_h06v04_001_2021124214828_AllAngle_Composite_Snow_Covered.tif\n",
      "/Users/Char/Dropbox/black_marble_VNP46A4/Output_Geotiffs/VNP46A4_A2020001_h05v04_001_2021118145635_AllAngle_Composite_Snow_Covered.tif\n"
     ]
    },
    {
     "name": "stderr",
     "output_type": "stream",
     "text": [
      "Warning 1: /Users/Char/Dropbox/black_marble_VNP46A4/Output_Geotiffs/VNP46A4_A2019001_h05v04_001_2021124124303_AllAngle_Composite_Snow_Covered.tif: Metadata exceeding 32000 bytes cannot be written into GeoTIFF. Transferred to PAM instead.\n",
      "Warning 1: /Users/Char/Dropbox/black_marble_VNP46A4/Output_Geotiffs/VNP46A4_A2019001_h06v04_001_2021124214828_AllAngle_Composite_Snow_Covered.tif: Metadata exceeding 32000 bytes cannot be written into GeoTIFF. Transferred to PAM instead.\n",
      "Warning 1: /Users/Char/Dropbox/black_marble_VNP46A4/Output_Geotiffs/VNP46A4_A2020001_h05v04_001_2021118145635_AllAngle_Composite_Snow_Covered.tif: Metadata exceeding 32000 bytes cannot be written into GeoTIFF. Transferred to PAM instead.\n"
     ]
    },
    {
     "name": "stdout",
     "output_type": "stream",
     "text": [
      "/Users/Char/Dropbox/black_marble_VNP46A4/Output_Geotiffs/VNP46A4_A2020001_h06v04_001_2021118144811_AllAngle_Composite_Snow_Covered.tif\n",
      "/Users/Char/Dropbox/black_marble_VNP46A4/Output_Geotiffs/VNP46A4_A2021001_h05v04_001_2022094115045_AllAngle_Composite_Snow_Covered.tif\n",
      "/Users/Char/Dropbox/black_marble_VNP46A4/Output_Geotiffs/VNP46A4_A2021001_h06v04_001_2022094115106_AllAngle_Composite_Snow_Covered.tif\n"
     ]
    },
    {
     "name": "stderr",
     "output_type": "stream",
     "text": [
      "Warning 1: /Users/Char/Dropbox/black_marble_VNP46A4/Output_Geotiffs/VNP46A4_A2020001_h06v04_001_2021118144811_AllAngle_Composite_Snow_Covered.tif: Metadata exceeding 32000 bytes cannot be written into GeoTIFF. Transferred to PAM instead.\n",
      "Warning 1: /Users/Char/Dropbox/black_marble_VNP46A4/Output_Geotiffs/VNP46A4_A2021001_h05v04_001_2022094115045_AllAngle_Composite_Snow_Covered.tif: Metadata exceeding 32000 bytes cannot be written into GeoTIFF. Transferred to PAM instead.\n",
      "Warning 1: /Users/Char/Dropbox/black_marble_VNP46A4/Output_Geotiffs/VNP46A4_A2021001_h06v04_001_2022094115106_AllAngle_Composite_Snow_Covered.tif: Metadata exceeding 32000 bytes cannot be written into GeoTIFF. Transferred to PAM instead.\n"
     ]
    }
   ],
   "source": [
    "# Execute the function processHD5\n",
    "# See above to identify which layer number is of interest\n",
    "\n",
    "for file in hdf5_files:\n",
    "    processHD5(file, 0, \"/Users/Char/Dropbox/black_marble_VNP46A4/Output_Geotiffs/\")"
   ]
  },
  {
   "cell_type": "markdown",
   "metadata": {},
   "source": [
    "# Mosaic Raster Layers"
   ]
  },
  {
   "cell_type": "code",
   "execution_count": 3,
   "metadata": {},
   "outputs": [
    {
     "name": "stdout",
     "output_type": "stream",
     "text": [
      "['VNP46A4_A2021001_h06v04_001_2022094115106_NearNadir_Composite_Snow_Free.tif', 'VNP46A4_A2020001_h05v04_001_2021118145635_NearNadir_Composite_Snow_Free.tif', 'VNP46A4_A2020001_h06v04_001_2021118144811_NearNadir_Composite_Snow_Free.tif', 'VNP46A4_A2021001_h05v04_001_2022094115045_NearNadir_Composite_Snow_Free.tif', 'VNP46A4_A2019001_h06v04_001_2021124214828_NearNadir_Composite_Snow_Free.tif', 'VNP46A4_A2019001_h05v04_001_2021124124303_NearNadir_Composite_Snow_Free.tif']\n",
      "rasters in 2021 : ['VNP46A4_A2021001_h06v04_001_2022094115106_NearNadir_Composite_Snow_Free.tif', 'VNP46A4_A2021001_h05v04_001_2022094115045_NearNadir_Composite_Snow_Free.tif']\n"
     ]
    }
   ],
   "source": [
    "# Set the path to the rasters to be mosaiced\n",
    "\n",
    "raster_dir = outDir\n",
    "\n",
    "# Change the working directory\n",
    "os.chdir(raster_dir)    \n",
    "\n",
    "# Create a list of rasters to be mosaiced\n",
    "raster_list = [f for f in os.listdir(raster_dir) if f.endswith('.tif')]\n",
    "\n",
    "print(raster_list)\n",
    "\n",
    "# Subset that list to only one year of data\n",
    "raster_2019 = list(filter(lambda k: 'A2019001' in k, raster_list))\n",
    "raster_2021 = list(filter(lambda k: 'A2021001' in k, raster_list))\n",
    "\n",
    "\n",
    "print(\"rasters in 2021 :\", raster_2021)"
   ]
  },
  {
   "cell_type": "code",
   "execution_count": 4,
   "metadata": {},
   "outputs": [],
   "source": [
    "# Create an empty list to hold the files in the data folder.\n",
    "raster_to_mosaic = []\n",
    "\n",
    "# Iterate over the available .tif files in the data folder to be mosaiced\n",
    "for p in raster_2021:\n",
    "    raster = rasterio.open(p)\n",
    "    raster_to_mosaic.append(raster)"
   ]
  },
  {
   "cell_type": "code",
   "execution_count": 5,
   "metadata": {},
   "outputs": [
    {
     "data": {
      "image/png": "[encoded data removed]",
      "text/plain": [
       "<Figure size 864x288 with 4 Axes>"
      ]
     },
     "metadata": {
      "needs_background": "light"
     },
     "output_type": "display_data"
    }
   ],
   "source": [
    "# Plot the individual rasters to be merged\n",
    "\n",
    "import matplotlib.pyplot as plt\n",
    "%matplotlib inline\n",
    "\n",
    "# Create 4 plots next to each other\n",
    "fig, (ax1, ax2, ax3, ax4) = plt.subplots(ncols=4, nrows=1, figsize=(12, 4))\n",
    "\n",
    "# Plot first four files\n",
    "show(raster_to_mosaic[0], ax=ax1)\n",
    "show(raster_to_mosaic[1], ax=ax2)\n",
    "# show(raster_to_mosaic[2], ax=ax3)\n",
    "# show(raster_to_mosaic[3], ax=ax4)\n",
    "\n",
    "# Do not show y-ticks values in last three axis\n",
    "for ax in [ax2, ax3, ax4]:\n",
    "    ax.yaxis.set_visible(False)"
   ]
  },
  {
   "cell_type": "code",
   "execution_count": 6,
   "metadata": {},
   "outputs": [
    {
     "data": {
      "image/png": "[encoded data removed]",
      "text/plain": [
       "<Figure size 432x288 with 1 Axes>"
      ]
     },
     "metadata": {
      "needs_background": "light"
     },
     "output_type": "display_data"
    },
    {
     "data": {
      "text/plain": [
       "<AxesSubplot:>"
      ]
     },
     "execution_count": 6,
     "metadata": {},
     "output_type": "execute_result"
    }
   ],
   "source": [
    "# Use the merge() method from rasterio to create the mosaic, and create the output transformation parameters to use later.\n",
    "mosaic, output = merge(raster_to_mosaic)\n",
    "\n",
    "# Plot the result\n",
    "show(mosaic, cmap='terrain')"
   ]
  },
  {
   "cell_type": "code",
   "execution_count": 7,
   "metadata": {},
   "outputs": [],
   "source": [
    "# Copy the raster's metadata and update it to match the height and width of the mosaic\n",
    "\n",
    "output_meta = raster.meta.copy()\n",
    "output_meta.update(\n",
    "    {\"driver\": \"GTiff\",\n",
    "        \"height\": mosaic.shape[1],\n",
    "        \"width\": mosaic.shape[2],\n",
    "        \"transform\": output,\n",
    "    }\n",
    ")"
   ]
  },
  {
   "cell_type": "code",
   "execution_count": 8,
   "metadata": {},
   "outputs": [],
   "source": [
    "# Write the mosaiced file in a local folder\n",
    "output_path = os.path.join(project_path, 'Output_Mosaics/VNP46A4_A2021001_Mosaic.tif')\n",
    "\n",
    "with rasterio.open(output_path, \"w\", **output_meta) as m:\n",
    "    m.write(mosaic)"
   ]
  }
 ],
 "metadata": {
  "kernelspec": {
   "display_name": "Python 3.10.0 ('osw_env')",
   "language": "python",
   "name": "python3"
  },
  "language_info": {
   "codemirror_mode": {
    "name": "ipython",
    "version": 3
   },
   "file_extension": ".py",
   "mimetype": "text/x-python",
   "name": "python",
   "nbconvert_exporter": "python",
   "pygments_lexer": "ipython3",
   "version": "3.11.0"
  },
  "orig_nbformat": 4,
  "vscode": {
   "interpreter": {
    "hash": "e432b14febdd7e457a68f37db40699cd8a461e4b6414a48ddf62c01d2d0e2198"
   }
  }
 },
 "nbformat": 4,
 "nbformat_minor": 2
}
